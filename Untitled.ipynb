{
 "cells": [
  {
   "cell_type": "code",
   "execution_count": 8,
   "id": "b554fc17-d9c9-446b-ad6e-76b57e36fb8d",
   "metadata": {
    "execution": {
     "iopub.execute_input": "2025-06-09T21:46:06.769114Z",
     "iopub.status.busy": "2025-06-09T21:46:06.768786Z",
     "iopub.status.idle": "2025-06-09T21:46:06.847206Z",
     "shell.execute_reply": "2025-06-09T21:46:06.846331Z",
     "shell.execute_reply.started": "2025-06-09T21:46:06.769095Z"
    }
   },
   "outputs": [
    {
     "name": "stdout",
     "output_type": "stream",
     "text": [
      "The autoreload extension is already loaded. To reload it, use:\n",
      "  %reload_ext autoreload\n"
     ]
    }
   ],
   "source": [
    "%load_ext autoreload\n",
    "%autoreload 2\n",
    "    \n",
    "import numpy as np\n",
    "import astropy.units as u\n",
    "from astropy.time import Time\n",
    "\n",
    "from lsst.summit.utils import ConsDbClient\n",
    "from lsst.daf.butler import Butler\n",
    "from astropy.table import QTable"
   ]
  },
  {
   "cell_type": "code",
   "execution_count": 12,
   "id": "41cacc5b-08dd-4e67-8ef8-aff6b5eac496",
   "metadata": {
    "execution": {
     "iopub.execute_input": "2025-06-09T22:08:09.787373Z",
     "iopub.status.busy": "2025-06-09T22:08:09.787024Z",
     "iopub.status.idle": "2025-06-09T22:08:09.879058Z",
     "shell.execute_reply": "2025-06-09T22:08:09.878243Z",
     "shell.execute_reply.started": "2025-06-09T22:08:09.787354Z"
    }
   },
   "outputs": [
    {
     "data": {
      "text/latex": [
       "$\\mathrm{ct}$"
      ],
      "text/plain": [
       "Unit(\"ct\")"
      ]
     },
     "execution_count": 12,
     "metadata": {},
     "output_type": "execute_result"
    }
   ],
   "source": [
    "u.ct"
   ]
  },
  {
   "cell_type": "code",
   "execution_count": 5,
   "id": "44745fd0-3920-4396-9a71-53a089afe689",
   "metadata": {
    "execution": {
     "iopub.execute_input": "2025-06-09T17:12:22.834013Z",
     "iopub.status.busy": "2025-06-09T17:12:22.833665Z",
     "iopub.status.idle": "2025-06-09T17:12:23.345832Z",
     "shell.execute_reply": "2025-06-09T17:12:23.345300Z",
     "shell.execute_reply.started": "2025-06-09T17:12:22.833993Z"
    }
   },
   "outputs": [
    {
     "name": "stdout",
     "output_type": "stream",
     "text": [
      "butler initialized\n"
     ]
    }
   ],
   "source": [
    "repo = \"/repo/embargo_new\"  #\"/repo/main\" # #\n",
    "collections = ['LSSTCam/runs/DRP/20250420_20250521/w_2025_21/DM-51076']#'LSSTCam/raw/all', \"LSSTCam/runs/nightlyValidation\"]# \"LSSTComCam/nightlyValidation\" #\"LSSTComCam/runs/DRP/DP1/w_2025_07/DM-48940\"\n",
    "instrument = \"LSSTCam\"\n",
    "\n",
    "butler = Butler(\n",
    "        repo, \n",
    "        collections=collections,\n",
    "        instrument=instrument)\n",
    "\n",
    "print('butler initialized', flush=True)\n",
    "src_dataset_refs = butler.query_datasets('refit_psf_star',\n",
    "                                         find_first=True, limit=1000000)"
   ]
  },
  {
   "cell_type": "code",
   "execution_count": 2,
   "id": "c0bf1385-ff9e-47f7-a445-e725d7422f81",
   "metadata": {
    "execution": {
     "iopub.execute_input": "2025-06-09T21:44:05.173108Z",
     "iopub.status.busy": "2025-06-09T21:44:05.172541Z",
     "iopub.status.idle": "2025-06-09T21:44:05.176075Z",
     "shell.execute_reply": "2025-06-09T21:44:05.175686Z",
     "shell.execute_reply.started": "2025-06-09T21:44:05.173090Z"
    }
   },
   "outputs": [],
   "source": [
    "t = np.random.normal(loc=50000, size=10)\n",
    "\n",
    "tab = QTable([t], dtype=['f8'], names=['time'])"
   ]
  },
  {
   "cell_type": "code",
   "execution_count": 3,
   "id": "92b0eb61-c4dc-4d5b-a655-8b1f253da496",
   "metadata": {
    "execution": {
     "iopub.execute_input": "2025-06-09T21:44:05.226631Z",
     "iopub.status.busy": "2025-06-09T21:44:05.226371Z",
     "iopub.status.idle": "2025-06-09T21:44:05.304710Z",
     "shell.execute_reply": "2025-06-09T21:44:05.304194Z",
     "shell.execute_reply.started": "2025-06-09T21:44:05.226616Z"
    }
   },
   "outputs": [],
   "source": [
    "import os, sys\n",
    "sys.path.append(os.path.join(os.getcwd(), 'src'))\n",
    "sys.path.append(os.path.join(os.getcwd(),'psf_utils'))\n",
    "\n",
    "from psf_catalog import write_psf_catalog"
   ]
  },
  {
   "cell_type": "code",
   "execution_count": 4,
   "id": "235b8c56-3f61-452a-a61f-ea801a7cc73f",
   "metadata": {
    "execution": {
     "iopub.execute_input": "2025-06-09T21:44:05.305918Z",
     "iopub.status.busy": "2025-06-09T21:44:05.305387Z",
     "iopub.status.idle": "2025-06-09T21:44:05.311387Z",
     "shell.execute_reply": "2025-06-09T21:44:05.310774Z",
     "shell.execute_reply.started": "2025-06-09T21:44:05.305903Z"
    }
   },
   "outputs": [
    {
     "data": {
      "text/plain": [
       "'/home/p/pai/lsst-psf/src'"
      ]
     },
     "execution_count": 4,
     "metadata": {},
     "output_type": "execute_result"
    }
   ],
   "source": [
    "sys.path[-2]"
   ]
  },
  {
   "cell_type": "code",
   "execution_count": 11,
   "id": "a614f50d-efb3-42f8-a0eb-0430d57d590b",
   "metadata": {
    "execution": {
     "iopub.execute_input": "2025-06-09T21:49:45.591959Z",
     "iopub.status.busy": "2025-06-09T21:49:45.591628Z",
     "iopub.status.idle": "2025-06-09T21:49:45.682783Z",
     "shell.execute_reply": "2025-06-09T21:49:45.682274Z",
     "shell.execute_reply.started": "2025-06-09T21:49:45.591932Z"
    }
   },
   "outputs": [
    {
     "name": "stdout",
     "output_type": "stream",
     "text": [
      "/home/p/pai/lsst-psf/catalogs/test\n",
      "time\n"
     ]
    }
   ],
   "source": [
    "write_psf_catalog(tab, filename='test', comments=['hi'])"
   ]
  },
  {
   "cell_type": "code",
   "execution_count": 32,
   "id": "d3e8b7b2-0030-47b9-856a-22658eddde68",
   "metadata": {
    "execution": {
     "iopub.execute_input": "2025-06-09T20:33:52.008984Z",
     "iopub.status.busy": "2025-06-09T20:33:52.008642Z",
     "iopub.status.idle": "2025-06-09T20:33:52.011452Z",
     "shell.execute_reply": "2025-06-09T20:33:52.011084Z",
     "shell.execute_reply.started": "2025-06-09T20:33:52.008963Z"
    }
   },
   "outputs": [],
   "source": [
    "import sys, os"
   ]
  },
  {
   "cell_type": "code",
   "execution_count": null,
   "id": "a3fd806e-e4db-41e3-b21c-9a11e58052aa",
   "metadata": {},
   "outputs": [],
   "source": [
    "os.path.join(os.getcwd(), '..')"
   ]
  }
 ],
 "metadata": {
  "kernelspec": {
   "display_name": "LSST",
   "language": "python",
   "name": "lsst"
  },
  "language_info": {
   "codemirror_mode": {
    "name": "ipython",
    "version": 3
   },
   "file_extension": ".py",
   "mimetype": "text/x-python",
   "name": "python",
   "nbconvert_exporter": "python",
   "pygments_lexer": "ipython3",
   "version": "3.12.10"
  }
 },
 "nbformat": 4,
 "nbformat_minor": 5
}
