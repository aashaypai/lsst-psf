{
 "cells": [
  {
   "cell_type": "code",
   "execution_count": 3,
   "id": "b554fc17-d9c9-446b-ad6e-76b57e36fb8d",
   "metadata": {
    "execution": {
     "iopub.execute_input": "2025-06-09T17:12:07.340536Z",
     "iopub.status.busy": "2025-06-09T17:12:07.340182Z",
     "iopub.status.idle": "2025-06-09T17:12:15.501928Z",
     "shell.execute_reply": "2025-06-09T17:12:15.501411Z",
     "shell.execute_reply.started": "2025-06-09T17:12:07.340507Z"
    }
   },
   "outputs": [],
   "source": [
    "from lsst.summit.utils import ConsDbClient\n",
    "from lsst.daf.butler import Butler"
   ]
  },
  {
   "cell_type": "code",
   "execution_count": 5,
   "id": "44745fd0-3920-4396-9a71-53a089afe689",
   "metadata": {
    "execution": {
     "iopub.execute_input": "2025-06-09T17:12:22.834013Z",
     "iopub.status.busy": "2025-06-09T17:12:22.833665Z",
     "iopub.status.idle": "2025-06-09T17:12:23.345832Z",
     "shell.execute_reply": "2025-06-09T17:12:23.345300Z",
     "shell.execute_reply.started": "2025-06-09T17:12:22.833993Z"
    }
   },
   "outputs": [
    {
     "name": "stdout",
     "output_type": "stream",
     "text": [
      "butler initialized\n"
     ]
    }
   ],
   "source": [
    "repo = \"/repo/embargo_new\"  #\"/repo/main\" # #\n",
    "collections = ['LSSTCam/runs/DRP/20250420_20250521/w_2025_21/DM-51076']#'LSSTCam/raw/all', \"LSSTCam/runs/nightlyValidation\"]# \"LSSTComCam/nightlyValidation\" #\"LSSTComCam/runs/DRP/DP1/w_2025_07/DM-48940\"\n",
    "instrument = \"LSSTCam\"\n",
    "\n",
    "butler = Butler(\n",
    "        repo, \n",
    "        collections=collections,\n",
    "        instrument=instrument)\n",
    "\n",
    "print('butler initialized', flush=True)\n",
    "src_dataset_refs = butler.query_datasets('refit_psf_star',\n",
    "                                         find_first=True, limit=1000000)"
   ]
  }
 ],
 "metadata": {
  "kernelspec": {
   "display_name": "LSST",
   "language": "python",
   "name": "lsst"
  },
  "language_info": {
   "codemirror_mode": {
    "name": "ipython",
    "version": 3
   },
   "file_extension": ".py",
   "mimetype": "text/x-python",
   "name": "python",
   "nbconvert_exporter": "python",
   "pygments_lexer": "ipython3",
   "version": "3.12.10"
  }
 },
 "nbformat": 4,
 "nbformat_minor": 5
}
